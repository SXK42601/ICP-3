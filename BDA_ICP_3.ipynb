{
  "nbformat": 4,
  "nbformat_minor": 0,
  "metadata": {
    "colab": {
      "provenance": []
    },
    "kernelspec": {
      "name": "python3",
      "display_name": "Python 3"
    },
    "language_info": {
      "name": "python"
    }
  },
  "cells": [
    {
      "cell_type": "code",
      "execution_count": 13,
      "metadata": {
        "colab": {
          "base_uri": "https://localhost:8080/"
        },
        "id": "VQqmie7mHyK8",
        "outputId": "b1bdbb07-8f4e-4f17-c0e0-220dfae0987e"
      },
      "outputs": [
        {
          "output_type": "stream",
          "name": "stdout",
          "text": [
            "Array shape: (3, 5)\n",
            "Modified array:\n",
            "[[ 8  7  0  4 13]\n",
            " [ 0 15 19  6  4]\n",
            " [ 9 14  0 14 16]]\n"
          ]
        }
      ],
      "source": [
        "import numpy as np\n",
        "\n",
        "#  1: To Create a random vector of size 15 with integers in the range 1-20\n",
        "random_vector = np.random.randint(1, 21, size=15)\n",
        "\n",
        "# 2: To Reshape the array to a 3x5 matrix\n",
        "reshaped_array = random_vector.reshape(3, 5)\n",
        "\n",
        "# 3: To Print the shape of the array\n",
        "print(\"Array shape:\", reshaped_array.shape)\n",
        "\n",
        "# Step 4: Replace the maximum value in each row with 0\n",
        "for i in range(reshaped_array.shape[0]):\n",
        "    max_index = np.argmax(reshaped_array[i])\n",
        "    reshaped_array[i][max_index] = 0\n",
        "    #find the index of the maximum value in that row. Then, you replace the maximum value in that row with 0.\n",
        "\n",
        "# Print the modified array\n",
        "print(\"Modified array:\")\n",
        "print(reshaped_array)\n"
      ]
    },
    {
      "cell_type": "code",
      "source": [
        "import numpy as np\n",
        "\n",
        "# Create a 2-dimensional array of size 4x3 with 4-byte integer elements\n",
        "array_2d = np.zeros((4, 3), dtype=np.int32)\n",
        "\n",
        "# Print the shape of the array\n",
        "print(\"Array shape:\", array_2d.shape)\n",
        "\n",
        "# Print the type of the array\n",
        "print(\"Array type:\", type(array_2d))\n",
        "\n",
        "# Print the data type of the array elements\n",
        "print(\"Data type of array elements:\", array_2d.dtype)\n"
      ],
      "metadata": {
        "colab": {
          "base_uri": "https://localhost:8080/"
        },
        "id": "ehwzuig4H-Hy",
        "outputId": "248dc81a-195d-4b60-a0c1-aabbdb069483"
      },
      "execution_count": 2,
      "outputs": [
        {
          "output_type": "stream",
          "name": "stdout",
          "text": [
            "Array shape: (4, 3)\n",
            "Array type: <class 'numpy.ndarray'>\n",
            "Data type of array elements: int32\n"
          ]
        }
      ]
    },
    {
      "cell_type": "code",
      "source": [
        "import numpy as np\n",
        "\n",
        "# Create the array\n",
        "array = np.array([[0, 1, 2], [3, 4, 5]])\n",
        "\n",
        "# Compute the sum of the diagonal elements\n",
        "diagonal_sum = np.trace(array)\n",
        "\n",
        "# Print the result\n",
        "print(\"Sum of diagonal elements:\", diagonal_sum)\n"
      ],
      "metadata": {
        "colab": {
          "base_uri": "https://localhost:8080/"
        },
        "id": "ycMbHxgaIA8x",
        "outputId": "39162b56-b574-4237-8967-0a6dd56e4c58"
      },
      "execution_count": 3,
      "outputs": [
        {
          "output_type": "stream",
          "name": "stdout",
          "text": [
            "Sum of diagonal elements: 4\n"
          ]
        }
      ]
    },
    {
      "cell_type": "code",
      "source": [
        "import numpy as np\n",
        "\n",
        "# Create an array of even numbers between 10 and 70\n",
        "even_numbers = np.arange(10, 71, 2)\n",
        "\n",
        "# Create an array of odd numbers between 10 and 70\n",
        "odd_numbers = np.arange(11, 71, 2)\n",
        "\n",
        "print(\"Even Numbers:\")\n",
        "print(even_numbers)\n",
        "\n",
        "print(\"Odd Numbers:\")\n",
        "print(odd_numbers)\n"
      ],
      "metadata": {
        "colab": {
          "base_uri": "https://localhost:8080/"
        },
        "id": "MeViEaAMI-Rt",
        "outputId": "3d456776-d9b2-4c23-e5c0-d8eef89f6db6"
      },
      "execution_count": 8,
      "outputs": [
        {
          "output_type": "stream",
          "name": "stdout",
          "text": [
            "Even Numbers:\n",
            "[10 12 14 16 18 20 22 24 26 28 30 32 34 36 38 40 42 44 46 48 50 52 54 56\n",
            " 58 60 62 64 66 68 70]\n",
            "Odd Numbers:\n",
            "[11 13 15 17 19 21 23 25 27 29 31 33 35 37 39 41 43 45 47 49 51 53 55 57\n",
            " 59 61 63 65 67 69]\n"
          ]
        }
      ]
    },
    {
      "cell_type": "code",
      "source": [
        "import numpy as np\n",
        "\n",
        "# Create two arrays of the same size\n",
        "array1 = np.array([1, 2, 3, 4])\n",
        "array2 = np.array([5, 6, 7, 8])\n",
        "\n",
        "# Element-wise addition\n",
        "result_addition = array1 + array2\n",
        "\n",
        "# Element-wise subtraction\n",
        "result_subtraction = array1 - array2\n",
        "\n",
        "# Element-wise multiplication\n",
        "result_multiplication = array1 * array2\n",
        "\n",
        "print(\"Array 1:\", array1)\n",
        "print(\"Array 2:\", array2)\n",
        "\n",
        "print(\"Element-wise Addition:\", result_addition)\n",
        "print(\"Element-wise Subtraction:\", result_subtraction)\n",
        "print(\"Element-wise Multiplication:\", result_multiplication)\n"
      ],
      "metadata": {
        "colab": {
          "base_uri": "https://localhost:8080/"
        },
        "id": "aEwmLmPvJAon",
        "outputId": "5632ffde-8c9e-4c96-8744-e23aeb28fecb"
      },
      "execution_count": 9,
      "outputs": [
        {
          "output_type": "stream",
          "name": "stdout",
          "text": [
            "Array 1: [1 2 3 4]\n",
            "Array 2: [5 6 7 8]\n",
            "Element-wise Addition: [ 6  8 10 12]\n",
            "Element-wise Subtraction: [-4 -4 -4 -4]\n",
            "Element-wise Multiplication: [ 5 12 21 32]\n"
          ]
        }
      ]
    },
    {
      "cell_type": "code",
      "source": [
        "import numpy as np\n",
        "\n",
        "# Create the given array\n",
        "array = np.array([[5.54, 3.38, 7.99],\n",
        "                  [3.54, 4.38, 6.99],\n",
        "                  [1.54, 2.39, 9.29]])\n",
        "\n",
        "# Sort by rows (ascending order)\n",
        "sorted_by_row = np.sort(array, axis=1)\n",
        "\n",
        "# Sort by columns (ascending order)\n",
        "sorted_by_column = np.sort(array, axis=0)\n",
        "\n",
        "print(\"Original Array:\")\n",
        "print(array)\n",
        "\n",
        "print(\"Sorted by Row:\")\n",
        "print(sorted_by_row)\n",
        "\n",
        "print(\"Sorted by Column:\")\n",
        "print(sorted_by_column)\n"
      ],
      "metadata": {
        "colab": {
          "base_uri": "https://localhost:8080/"
        },
        "id": "r2qArSdeJlpg",
        "outputId": "89444e7d-b47f-486f-d0b3-dcffa33372ef"
      },
      "execution_count": 10,
      "outputs": [
        {
          "output_type": "stream",
          "name": "stdout",
          "text": [
            "Original Array:\n",
            "[[5.54 3.38 7.99]\n",
            " [3.54 4.38 6.99]\n",
            " [1.54 2.39 9.29]]\n",
            "Sorted by Row:\n",
            "[[3.38 5.54 7.99]\n",
            " [3.54 4.38 6.99]\n",
            " [1.54 2.39 9.29]]\n",
            "Sorted by Column:\n",
            "[[1.54 2.39 6.99]\n",
            " [3.54 3.38 7.99]\n",
            " [5.54 4.38 9.29]]\n"
          ]
        }
      ]
    },
    {
      "cell_type": "code",
      "source": [
        "import numpy as np\n",
        "\n",
        "# Create the array with NaN values\n",
        "array = np.array([[4, 2, np.nan, 1],\n",
        "                  [11, 12, 14, 9],\n",
        "                  [5, np.nan, 1, np.nan]])\n",
        "\n",
        "# Find missing data (NaN) and return a Boolean array\n",
        "missing_data = np.isnan(array)\n",
        "\n",
        "print(\"Array with missing data (NaN):\")\n",
        "print(array)\n",
        "\n",
        "print(\"Boolean array indicating missing data:\")\n",
        "print(missing_data)\n"
      ],
      "metadata": {
        "colab": {
          "base_uri": "https://localhost:8080/"
        },
        "id": "MV883o_8Jwyd",
        "outputId": "a9a0da33-8c2f-44ce-bd9f-2229661de5a2"
      },
      "execution_count": 11,
      "outputs": [
        {
          "output_type": "stream",
          "name": "stdout",
          "text": [
            "Array with missing data (NaN):\n",
            "[[ 4.  2. nan  1.]\n",
            " [11. 12. 14.  9.]\n",
            " [ 5. nan  1. nan]]\n",
            "Boolean array indicating missing data:\n",
            "[[False False  True False]\n",
            " [False False False False]\n",
            " [False  True False  True]]\n"
          ]
        }
      ]
    }
  ]
}